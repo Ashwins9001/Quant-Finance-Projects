{
 "cells": [
  {
   "cell_type": "code",
   "execution_count": null,
   "id": "7c3828e7",
   "metadata": {},
   "outputs": [],
   "source": [
    "import numpy as np\n",
    "import pandas as pd\n",
    "import matploylib.pyplot as plt"
   ]
  },
  {
   "cell_type": "code",
   "execution_count": null,
   "id": "b0ff3f0c",
   "metadata": {},
   "outputs": [],
   "source": [
    "NUM_SIM = 100\n",
    "\n",
    "def stock_monte_carlo(s0, mu, sigma, N=1000):\n",
    "    result = []\n",
    "    \n",
    "    ##Perform NUM_SIM simulations, average to compute expected stock price trajectory\n",
    "    ##Monte-Carlo simulation to approximate deterministic solution to stock price stochastic equation\n",
    "    \n",
    "    for sim in range(NUM_SIM):\n",
    "        prices = [s0]\n",
    "        \n",
    "        ##Simulate stock price fluctuation over N days\n",
    "        \n",
    "        for data_point in range(N):\n",
    "            \n",
    "            #Compute solution to stochastic differential using Ito's Lemma to determine stock price at a given time\n",
    "            #Generate points using previous estimate; sampling from standard normal to emulate Wiener process\n",
    "            stock_price = prices[-1] * np.exp((mu - 0.5*sigma**2) + sigma * np.random.normal())\n",
    "            prices.append(stock_price)\n",
    "        \n",
    "        result.append(prices)\n",
    "    \n",
    "    #Each row represents data per simulation, each column represents day in range [1, N]\n",
    "    #Transpose to get each row as day in range [1, N], each column as data per simulation\n",
    "    simulation_data = pd.DataFrame(result)\n",
    "    simulation_data = simulation_data.T"
   ]
  }
 ],
 "metadata": {
  "kernelspec": {
   "display_name": "Python 3",
   "language": "python",
   "name": "python3"
  },
  "language_info": {
   "codemirror_mode": {
    "name": "ipython",
    "version": 3
   },
   "file_extension": ".py",
   "mimetype": "text/x-python",
   "name": "python",
   "nbconvert_exporter": "python",
   "pygments_lexer": "ipython3",
   "version": "3.8.8"
  }
 },
 "nbformat": 4,
 "nbformat_minor": 5
}
